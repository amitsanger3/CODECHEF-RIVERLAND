{
 "cells": [
  {
   "cell_type": "markdown",
   "metadata": {},
   "source": [
    "# Riverland"
   ]
  },
  {
   "cell_type": "markdown",
   "metadata": {},
   "source": [
    "### PROBLEM "
   ]
  },
  {
   "cell_type": "markdown",
   "metadata": {},
   "source": [
    "There is a country with a large river system. The cities in this country are numbered 1 through N; city number 1 is the capital. The river system forms a rooted tree such that the capital is the root. Each river connects two cities and flows towards the root. For each non-root city i, there is a river that flows from this city to city pi. There is also a port in each city.\n",
    "\n",
    "In the country, there are only two ways to travel between cities: by boat and by ferry. A boat can only move downstream (that is, towards the capital), while a ferry can move in both directions. There are direct ferry routes from every port to every other port.\n",
    "\n",
    "Initially, all the ports are open. Sometimes, some ports can close or open again (possibly multiple times); the port in the capital is always open. It is not allowed to travel by ferry from a closed port, but travelling to a closed port is allowed. Travelling by boat is always possible, even from a closed port.\n",
    "\n",
    "Sometimes, Chef wants to go on a trip. He has already chosen a city v where he will start the trip. However, he only has enough money for at most one trip by ferry. Therefore, he wants to make a trip as follows:\n",
    "\n",
    "Choose a city b with an opened port and travel to this city by boat. It must be possible to travel from v to b by boat (specifically, v=b is allowed).\n",
    "Decide to either continue from city b by ferry or end the trip in this city.\n",
    "If he decides to continue by ferry, choose a city f and travel from b to f by ferry. It must also be possible to travel from b to f by ferry.\n",
    "It is not allowed to travel along any river twice (regardless of direction), i.e. when Chef decides to continue by ferry, the shortest paths between (v, b) and (b, f) must have no common rivers.\n",
    "Chef likes travelling by ferry, so the more rivers he visits (travels along) on a ferry, the happier he becomes. Also, each city has a fixed beauty; let's denote the beauty of city i by ai. Then, for a trip with value T, let's define the happiness Chef gains as ab+D⋅T, where D is the length of the ferry route (the number of rivers visited when travelling by ferry — possibly zero).\n",
    "\n",
    "You should process Q queries. There are three types of queries:\n",
    "\n",
    "- v: The port in city v closes. It is guaranteed that the port in city v was open before this query.\n",
    "+ v: The port in city v reopens. It is guaranteed that the port in city v was closed before this query.\n",
    "? v T: Chef wants to make a trip with value T from city v.\n",
    "For each query of the third type, find the maximum happiness Chef can gain from such a trip."
   ]
  },
  {
   "cell_type": "markdown",
   "metadata": {},
   "source": [
    "### INPUT "
   ]
  },
  {
   "cell_type": "markdown",
   "metadata": {},
   "source": [
    "* The first line of the input contains two space-separated integers N and Q.\n",
    "* The second line contains N−1 space-separated integers p2,p3,…,pN.\n",
    "* The third line contains N space-separated integers a1,a2,…,aN.\n",
    "* The following Q lines describe queries. Each of these lines starts with a character c denoting the type of the current query, a space and an integer v. If c is '?', this is followed by a space and an integer T."
   ]
  },
  {
   "cell_type": "markdown",
   "metadata": {},
   "source": [
    "### OUTPUT "
   ]
  },
  {
   "cell_type": "markdown",
   "metadata": {},
   "source": [
    "For each query of the third type, print a single line containing one integer — the maximum obtainable happiness."
   ]
  },
  {
   "cell_type": "markdown",
   "metadata": {},
   "source": [
    "### CONSTRAINT "
   ]
  },
  {
   "cell_type": "raw",
   "metadata": {},
   "source": [
    "2≤N≤3⋅105\n",
    "1≤Q≤3⋅105\n",
    "1≤pi<i for each valid i\n",
    "1≤ai≤109 for each valid i\n",
    "1≤v≤N\n",
    "for each query of the first or second type, v≠1\n",
    "1≤T≤109\n",
    "c∈{'+','-','?'}"
   ]
  },
  {
   "cell_type": "markdown",
   "metadata": {},
   "source": [
    "### EXAMPLE INPUT "
   ]
  },
  {
   "cell_type": "raw",
   "metadata": {},
   "source": [
    "10 9\n",
    "1 2 3 2 2 6 3 8 8\n",
    "30 20 6 13 8 40 7 9 13 1\n",
    "? 4 11\n",
    "- 4\n",
    "? 4 11\n",
    "- 7\n",
    "? 10 6\n",
    "+ 7\n",
    "- 6\n",
    "- 2\n",
    "? 7 4"
   ]
  },
  {
   "cell_type": "markdown",
   "metadata": {},
   "source": [
    "### EXAMPLE OUTPUT "
   ]
  },
  {
   "cell_type": "raw",
   "metadata": {},
   "source": [
    "57\n",
    "42\n",
    "33\n",
    "30"
   ]
  },
  {
   "cell_type": "markdown",
   "metadata": {},
   "source": [
    "### EXPLAINATION "
   ]
  },
  {
   "cell_type": "markdown",
   "metadata": {},
   "source": [
    "In the first query, Chef travels by ferry from city 4 to city 7.\n",
    "\n",
    "In the second query, Chef cannot travel by ferry from city 4, so he has to use the second best route, which is from city 2 to city 7.\n",
    "\n",
    "In the third query, Chef travels to city 8 by boat and then to city 7 by ferry.\n",
    "\n",
    "In the fourth query, Chef travels to the capital (city number 1) by boat and does not travel by ferry at all."
   ]
  },
  {
   "cell_type": "markdown",
   "metadata": {},
   "source": [
    "## SOLUTION "
   ]
  },
  {
   "cell_type": "code",
   "execution_count": 1,
   "metadata": {},
   "outputs": [],
   "source": [
    "import pandas as pd\n",
    "import numpy as np"
   ]
  },
  {
   "cell_type": "code",
   "execution_count": 2,
   "metadata": {},
   "outputs": [],
   "source": [
    "class Mapping(object):\n",
    "\n",
    "    def __init__(self, nodes, p, happiness):\n",
    "        self.nodes = nodes\n",
    "        self.p = p\n",
    "        self.happiness = happiness\n",
    "        self.adj_mat = None\n",
    "        self.adj_mat_ferry = None\n",
    "        self.b = None\n",
    "        self.f = None\n",
    "        self.sel_rout = None\n",
    "        self.source = None\n",
    "        self.boat_matrix = None\n",
    "        self.ferry_matrix = None\n",
    "\n",
    "\n",
    "\n",
    "    def happiness_table(self):\n",
    "        dic = {\n",
    "            'city': self.nodes,\n",
    "            'happiness': self.happiness,\n",
    "        }\n",
    "        return pd.DataFrame(dic, columns=['city', 'happiness'], index=self.nodes)\n",
    "\n",
    "    def get_happiness(self, city):\n",
    "        table = self.happiness_table()\n",
    "        return table.loc[city]['happiness']\n",
    "\n",
    "\n",
    "    def adjacency_matrix(self):\n",
    "        zero_matrix = np.zeros((len(self.nodes), len(self.nodes)), np.int8)\n",
    "        for i in range(len(self.nodes[1:])):\n",
    "            zero_matrix[int(self.nodes[1:][i])-1, int(self.p[i])-1] = 1\n",
    "\n",
    "        self.adj_mat = pd.DataFrame(zero_matrix, index=self.nodes, columns=self.nodes)\n",
    "        return None\n",
    "\n",
    "    def adjacency_matrix_ferry(self):\n",
    "        if self.adj_mat is None:\n",
    "            self.adjacency_matrix()\n",
    "\n",
    "        self.adj_mat_ferry = self.adj_mat + self.adj_mat.transpose()\n",
    "        return None\n",
    "\n",
    "    def next_cities(self, source, ferry=True):\n",
    "        if ferry is False:\n",
    "            rec_mat = self.boat_matrix\n",
    "\n",
    "        if ferry is True:\n",
    "            rec_mat = self.ferry_matrix\n",
    "\n",
    "        adj_l = rec_mat.loc[source][rec_mat.loc[source] == 1]\n",
    "        if len(adj_l) > 0:\n",
    "            return adj_l.index\n",
    "        else:\n",
    "            return []\n",
    "\n",
    "    def routs_bfs(self, source, destination, ferry):\n",
    "        \"\"\"\n",
    "        Routs by Brute Force (breadth first) algorithm.\n",
    "        \"\"\"\n",
    "\n",
    "        journey_init = [source]\n",
    "        paths_q = [journey_init]\n",
    "\n",
    "        while len(paths_q) != 0:\n",
    "\n",
    "            check_path = paths_q.pop()\n",
    "            last_city = check_path[-1]\n",
    "\n",
    "            if last_city == destination:\n",
    "                return check_path\n",
    "\n",
    "            for rout in self.next_cities(last_city, ferry):\n",
    "                if rout not in check_path:\n",
    "                    new_path = check_path + [rout]\n",
    "                    paths_q.append(new_path)\n",
    "\n",
    "        return None\n",
    "\n",
    "    def routs_dfs(self, source, destination, paths, longest, ferry):\n",
    "        \"\"\"\n",
    "        Routs by Brute Force (depth first) algorithm.\n",
    "        \"\"\"\n",
    "\n",
    "        paths = paths+[source]\n",
    "\n",
    "        if source == destination:\n",
    "            return paths\n",
    "\n",
    "        available_rout = self.next_cities(source, ferry)\n",
    "        for rout in available_rout:\n",
    "            if rout not in paths:\n",
    "                if longest == None or len(paths) > len(longest):\n",
    "                    new_path = self.routs_dfs(rout, destination, paths, longest, ferry)\n",
    "\n",
    "                    if new_path != None:\n",
    "                        longest = new_path\n",
    "\n",
    "        return longest\n",
    "\n",
    "    def longest_rout(self, start, paths, ferry, closed):\n",
    "        init = [start]\n",
    "        path_q = [init]\n",
    "        longest = []\n",
    "        while len(path_q) != 0:\n",
    "\n",
    "            temp = path_q.pop()\n",
    "            last = temp[-1]\n",
    "\n",
    "            for i in self.next_cities(last, ferry):\n",
    "                if ferry:\n",
    "                    if i not in temp and i not in closed:\n",
    "                        new = temp + [i]\n",
    "                        path_q.append(new)\n",
    "                        if len(new)>len(longest):\n",
    "                            longest = new\n",
    "                else:\n",
    "                    if i not in temp:\n",
    "                        new = temp + [i]\n",
    "                        path_q.append(new)\n",
    "                        if len(new)>len(longest):\n",
    "                            longest = new\n",
    "                            \n",
    "        return longest\n",
    "\n",
    "    def select_city(self, source, closed):\n",
    "\n",
    "        closed = closed + [source]\n",
    "        cities = self.next_cities(source, False)\n",
    "        b,f = None, None\n",
    "        long = []\n",
    "        for i in cities:\n",
    "            if self.routs_bfs(source, i, False) is not None:\n",
    "                closed.append(i)\n",
    "                b = i\n",
    "                path = self.longest_rout(i, [], True, closed)\n",
    "                if len(path) > len(long):\n",
    "                    long = path\n",
    "                    f = path[-1]\n",
    "\n",
    "            else:\n",
    "                return self.select_city(i, closed)\n",
    "\n",
    "        self.b = b\n",
    "        self.f = f\n",
    "        self.sel_rout = long\n",
    "        return None\n",
    "\n",
    "    def set_destination(self, source):\n",
    "        self.source = source\n",
    "        ferry_rout = self.longest_rout(source, [], True, [])\n",
    "        self.sel_rout = ferry_rout\n",
    "        if len(ferry_rout) > 0:\n",
    "            self.f = ferry_rout[-1]\n",
    "        else:\n",
    "            self.f = source\n",
    "\n",
    "        return None\n",
    "\n",
    "    def gain_happiness(self, source, closed, value):\n",
    "        \"\"\"\n",
    "        ab+D⋅T,\n",
    "        \"\"\"\n",
    "        self.source = source\n",
    "        if self.adj_mat is None or self.adj_mat_ferry is None:\n",
    "            self.adjacency_matrix()\n",
    "            self.adjacency_matrix_ferry()\n",
    "\n",
    "        self.boat_matrix = self.adj_mat.copy()\n",
    "        self.ferry_matrix = self.adj_mat_ferry.copy()\n",
    "        if len(closed)>0:\n",
    "            for i in closed:\n",
    "                self.ferry_matrix.loc[i]=0\n",
    "\n",
    "        if self.source == None or self.f == None:\n",
    "            self.set_destination(source)\n",
    "\n",
    "        if self.source == self.f:\n",
    "            return int(self.get_happiness(self.source))\n",
    "\n",
    "        max_boat_rout = self.longest_rout(self.source, [], False, [])\n",
    "        max_happiness = 0\n",
    "        for i in max_boat_rout:\n",
    "            possible_ferry_rout = self.routs_dfs(i, self.f, [], None, True)\n",
    "            self.ferry_matrix[i]=0\n",
    "            self.ferry_matrix.loc[i]=0\n",
    "            if possible_ferry_rout != None:\n",
    "                happiness = int(self.get_happiness(i)) + ((len(possible_ferry_rout)-1)*value)\n",
    "            else:\n",
    "                happiness = int(self.get_happiness(i))\n",
    "            if happiness > max_happiness:\n",
    "                max_happiness = happiness\n",
    "\n",
    "        return max_happiness"
   ]
  },
  {
   "cell_type": "code",
   "execution_count": 6,
   "metadata": {},
   "outputs": [],
   "source": [
    "def chef_happiness():\n",
    "    x = input().split()\n",
    "    n = list(np.arange(1, int(x[0])+1))\n",
    "    p= input().split()\n",
    "    a = input().split()\n",
    "    mp= Mapping(n,p,a)\n",
    "    close = []\n",
    "    q = int(x[1])\n",
    "    while q>0:\n",
    "        y_d = input()\n",
    "        y = y_d.split()\n",
    "        if y[0] == '?':\n",
    "            this_happiness = mp.gain_happiness(int(y[1]), close, int(y[2]))\n",
    "            print(\"Output: \",this_happiness)\n",
    "        elif y[0] == \"-\":\n",
    "            close.append(int(y[1]))\n",
    "        elif y[0] == \"+\":\n",
    "            close.remove(int(y[1]))\n",
    "        q -= 1"
   ]
  },
  {
   "cell_type": "markdown",
   "metadata": {},
   "source": [
    "Running algorithm on sample."
   ]
  },
  {
   "cell_type": "code",
   "execution_count": 7,
   "metadata": {},
   "outputs": [
    {
     "name": "stdout",
     "output_type": "stream",
     "text": [
      "10 9\n",
      "1 2 3 2 2 6 3 8 8\n",
      "30 20 6 13 8 40 7 9 13 1\n",
      "? 4 11\n",
      "Output:  57\n",
      "- 4\n",
      "? 4 11\n",
      "Output:  42\n",
      "- 7\n",
      "? 10 6\n",
      "Output:  33\n",
      "+ 7\n",
      "- 6\n",
      "- 2\n",
      "? 7 4\n",
      "Output:  7\n"
     ]
    }
   ],
   "source": [
    "chef_happiness()"
   ]
  },
  {
   "cell_type": "code",
   "execution_count": null,
   "metadata": {},
   "outputs": [],
   "source": []
  }
 ],
 "metadata": {
  "kernelspec": {
   "display_name": "Python 3",
   "language": "python",
   "name": "python3"
  },
  "language_info": {
   "codemirror_mode": {
    "name": "ipython",
    "version": 3
   },
   "file_extension": ".py",
   "mimetype": "text/x-python",
   "name": "python",
   "nbconvert_exporter": "python",
   "pygments_lexer": "ipython3",
   "version": "3.7.4"
  }
 },
 "nbformat": 4,
 "nbformat_minor": 2
}
